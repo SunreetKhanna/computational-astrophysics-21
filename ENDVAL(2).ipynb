{
 "cells": [
  {
   "cell_type": "code",
   "execution_count": 1,
   "metadata": {},
   "outputs": [],
   "source": [
    "import pandas as pd\n",
    "import numpy as np\n",
    "import matplotlib.pyplot as plt\n",
    "import scipy\n",
    "from scipy.optimize import curve_fit as cf"
   ]
  },
  {
   "cell_type": "code",
   "execution_count": 2,
   "metadata": {},
   "outputs": [],
   "source": [
    "def f(x,m,c):\n",
    "    return m*x+c"
   ]
  },
  {
   "cell_type": "code",
   "execution_count": 3,
   "metadata": {},
   "outputs": [
    {
     "data": {
      "text/html": [
       "<div>\n",
       "<style scoped>\n",
       "    .dataframe tbody tr th:only-of-type {\n",
       "        vertical-align: middle;\n",
       "    }\n",
       "\n",
       "    .dataframe tbody tr th {\n",
       "        vertical-align: top;\n",
       "    }\n",
       "\n",
       "    .dataframe thead th {\n",
       "        text-align: right;\n",
       "    }\n",
       "</style>\n",
       "<table border=\"1\" class=\"dataframe\">\n",
       "  <thead>\n",
       "    <tr style=\"text-align: right;\">\n",
       "      <th></th>\n",
       "      <th>gmag</th>\n",
       "      <th>ra</th>\n",
       "      <th>dec</th>\n",
       "      <th>plx</th>\n",
       "      <th>bp_rp</th>\n",
       "      <th>lum_val</th>\n",
       "      <th>teff_val</th>\n",
       "      <th>radius_val</th>\n",
       "    </tr>\n",
       "  </thead>\n",
       "  <tbody>\n",
       "    <tr>\n",
       "      <th>0</th>\n",
       "      <td>15.684173</td>\n",
       "      <td>58.452096</td>\n",
       "      <td>23.485778</td>\n",
       "      <td>3.486630</td>\n",
       "      <td>2.192428</td>\n",
       "      <td>0.062333</td>\n",
       "      <td>3797.0000</td>\n",
       "      <td>0.576938</td>\n",
       "    </tr>\n",
       "    <tr>\n",
       "      <th>1</th>\n",
       "      <td>7.498167</td>\n",
       "      <td>55.930096</td>\n",
       "      <td>25.080502</td>\n",
       "      <td>8.027063</td>\n",
       "      <td>0.188913</td>\n",
       "      <td>NaN</td>\n",
       "      <td>8337.3330</td>\n",
       "      <td>NaN</td>\n",
       "    </tr>\n",
       "    <tr>\n",
       "      <th>2</th>\n",
       "      <td>16.102013</td>\n",
       "      <td>57.170842</td>\n",
       "      <td>23.237979</td>\n",
       "      <td>8.509836</td>\n",
       "      <td>3.116683</td>\n",
       "      <td>NaN</td>\n",
       "      <td>3838.1667</td>\n",
       "      <td>NaN</td>\n",
       "    </tr>\n",
       "    <tr>\n",
       "      <th>3</th>\n",
       "      <td>12.923352</td>\n",
       "      <td>56.999005</td>\n",
       "      <td>24.731093</td>\n",
       "      <td>6.493298</td>\n",
       "      <td>1.591153</td>\n",
       "      <td>0.156267</td>\n",
       "      <td>4456.1650</td>\n",
       "      <td>0.663230</td>\n",
       "    </tr>\n",
       "    <tr>\n",
       "      <th>4</th>\n",
       "      <td>16.454210</td>\n",
       "      <td>55.865759</td>\n",
       "      <td>24.270604</td>\n",
       "      <td>2.675075</td>\n",
       "      <td>2.346289</td>\n",
       "      <td>0.050944</td>\n",
       "      <td>3830.0100</td>\n",
       "      <td>0.512623</td>\n",
       "    </tr>\n",
       "  </tbody>\n",
       "</table>\n",
       "</div>"
      ],
      "text/plain": [
       "        gmag         ra        dec       plx     bp_rp   lum_val   teff_val  \\\n",
       "0  15.684173  58.452096  23.485778  3.486630  2.192428  0.062333  3797.0000   \n",
       "1   7.498167  55.930096  25.080502  8.027063  0.188913       NaN  8337.3330   \n",
       "2  16.102013  57.170842  23.237979  8.509836  3.116683       NaN  3838.1667   \n",
       "3  12.923352  56.999005  24.731093  6.493298  1.591153  0.156267  4456.1650   \n",
       "4  16.454210  55.865759  24.270604  2.675075  2.346289  0.050944  3830.0100   \n",
       "\n",
       "   radius_val  \n",
       "0    0.576938  \n",
       "1         NaN  \n",
       "2         NaN  \n",
       "3    0.663230  \n",
       "4    0.512623  "
      ]
     },
     "execution_count": 3,
     "metadata": {},
     "output_type": "execute_result"
    }
   ],
   "source": [
    "df=pd.read_csv(\"https://raw.githubusercontent.com/astroclubiitk/computational-astrophysics/main/Final-Project/Pleiades_Cluster.csv\")\n",
    "teff=np.asarray(df['teff_val'])\n",
    "lum=np.asarray(df['lum_val'])\n",
    "d=1000/(np.asarray(df['plx']))\n",
    "gmag=np.asarray(df['gmag'])\n",
    "r=np.asarray(df['radius_val'])\n",
    "df.head()"
   ]
  },
  {
   "cell_type": "code",
   "execution_count": 4,
   "metadata": {},
   "outputs": [],
   "source": [
    "M=gmag-5*(np.log10(d)-1)"
   ]
  },
  {
   "cell_type": "code",
   "execution_count": 5,
   "metadata": {},
   "outputs": [],
   "source": [
    "color=np.asarray(df['bp_rp'].dropna())"
   ]
  },
  {
   "cell_type": "code",
   "execution_count": 6,
   "metadata": {},
   "outputs": [
    {
     "name": "stdout",
     "output_type": "stream",
     "text": [
      "79\n"
     ]
    },
    {
     "name": "stderr",
     "output_type": "stream",
     "text": [
      "<ipython-input-6-29e5ce003d34>:1: RuntimeWarning: invalid value encountered in power\n",
      "  T_k=5601/((color+0.4)**(2/3))\n"
     ]
    }
   ],
   "source": [
    "T_k=5601/((color+0.4)**(2/3))\n",
    "for i,ele in enumerate(T_k):\n",
    "    if np.isnan(ele)==1:\n",
    "        print(i)\n",
    "\n",
    "        \n",
    "        \n",
    "        \n",
    "T_k = T_k[~np.isnan(T_k)]"
   ]
  },
  {
   "cell_type": "code",
   "execution_count": 7,
   "metadata": {},
   "outputs": [],
   "source": [
    "index=list()\n",
    "for i,ele in enumerate(teff):\n",
    "    if np.isnan(ele)==0 and i<970:\n",
    "        index.append(i)\n",
    "        \n",
    "T_k_clean=T_k[index]"
   ]
  },
  {
   "cell_type": "code",
   "execution_count": 8,
   "metadata": {},
   "outputs": [
    {
     "data": {
      "image/png": "[encoded data removed]",
      "text/plain": [
       "<Figure size 432x288 with 1 Axes>"
      ]
     },
     "metadata": {
      "needs_background": "light"
     },
     "output_type": "display_data"
    }
   ],
   "source": [
    "teff_clean=np.asarray(df['teff_val'].dropna())\n",
    "teff_clean_2=teff_clean[range(0,673)]\n",
    "p_opt1,p_cov1=cf(f,teff_clean_2,T_k_clean)\n",
    "plt.scatter(teff_clean_2,T_k_clean)\n",
    "plt.plot(teff_clean_2,f(teff_clean_2,*p_opt1),c='r')\n",
    "plt.xlabel(\"Temperature(K)(Gaia)\")\n",
    "plt.ylabel(\"Temperature(K)\")\n",
    "plt.grid()"
   ]
  },
  {
   "cell_type": "code",
   "execution_count": 9,
   "metadata": {},
   "outputs": [],
   "source": [
    "L=10**((0.4)*(4.77-M))"
   ]
  },
  {
   "cell_type": "code",
   "execution_count": 10,
   "metadata": {},
   "outputs": [],
   "source": [
    "index2=list()\n",
    "for i,ele in enumerate(lum):\n",
    "    if np.isnan(ele)==0:\n",
    "        index2.append(i)\n",
    "\n",
    "L_clean=L[index2]"
   ]
  },
  {
   "cell_type": "code",
   "execution_count": 11,
   "metadata": {},
   "outputs": [
    {
     "data": {
      "image/png": "[encoded data removed]",
      "text/plain": [
       "<Figure size 432x288 with 1 Axes>"
      ]
     },
     "metadata": {
      "needs_background": "light"
     },
     "output_type": "display_data"
    }
   ],
   "source": [
    "lum_clean=np.asarray(df['lum_val'].dropna())\n",
    "plt.scatter(lum_clean,L_clean)\n",
    "p_opt2,p_cov2=cf(f,lum_clean,L_clean)\n",
    "plt.plot(lum_clean,f(lum_clean,*p_opt2),c='r')\n",
    "plt.xlabel(\"Luminosity(L_sun)(Gaia)\")\n",
    "plt.ylabel(\"Luminosity(L_sun)\")\n",
    "plt.grid()"
   ]
  },
  {
   "cell_type": "code",
   "execution_count": 12,
   "metadata": {},
   "outputs": [],
   "source": [
    "index3=list()\n",
    "for i,ele in enumerate(r):\n",
    "    if np.isnan(ele)==0 and i<971:\n",
    "        index3.append(i)\n"
   ]
  },
  {
   "cell_type": "code",
   "execution_count": 13,
   "metadata": {},
   "outputs": [],
   "source": [
    "r_clean=np.asarray(df['radius_val'].dropna())\n",
    "r_clean_fin=r_clean[range(0,296)]"
   ]
  },
  {
   "cell_type": "code",
   "execution_count": 14,
   "metadata": {},
   "outputs": [],
   "source": [
    "T_k_fin=T_k[index3]\n",
    "L_fin=L[index3]"
   ]
  },
  {
   "cell_type": "code",
   "execution_count": 15,
   "metadata": {},
   "outputs": [],
   "source": [
    "R=((5800**2)*L_fin**(1/2))/(T_k_fin**(2))"
   ]
  },
  {
   "cell_type": "code",
   "execution_count": 16,
   "metadata": {},
   "outputs": [
    {
     "data": {
      "image/png": "[encoded data removed]",
      "text/plain": [
       "<Figure size 432x288 with 1 Axes>"
      ]
     },
     "metadata": {
      "needs_background": "light"
     },
     "output_type": "display_data"
    }
   ],
   "source": [
    "plt.scatter(r_clean_fin,R)\n",
    "p_opt3,p_cov3=cf(f,r_clean_fin,R)\n",
    "plt.plot(r_clean_fin,f(r_clean_fin,*p_opt3),c='r')\n",
    "plt.xlabel(\"Radius(R_sun)(Gaia)\")\n",
    "plt.ylabel(\"Radius(R_sun)\")\n",
    "plt.grid()"
   ]
  }
 ],
 "metadata": {
  "kernelspec": {
   "display_name": "Python 3",
   "language": "python",
   "name": "python3"
  },
  "language_info": {
   "codemirror_mode": {
    "name": "ipython",
    "version": 3
   },
   "file_extension": ".py",
   "mimetype": "text/x-python",
   "name": "python",
   "nbconvert_exporter": "python",
   "pygments_lexer": "ipython3",
   "version": "3.8.5"
  }
 },
 "nbformat": 4,
 "nbformat_minor": 4
}
