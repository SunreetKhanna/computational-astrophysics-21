{
 "cells": [
  {
   "cell_type": "markdown",
   "metadata": {},
   "source": [
    "# 1. Astropy Coordinates"
   ]
  },
  {
   "cell_type": "markdown",
   "metadata": {},
   "source": [
    "The [Messier Objects](https://en.wikipedia.org/wiki/Messier_object) are a set of 110 astronomical objects catalogued by the French astronomer Charles Messier first back in 1774. The catalogue consists of a diverse range of astronomical objects, from star clusters and nebulae to galaxies. Messier objects are extremely popular targets for amateur astronomers. Back on campus, we organised a lot of Messier Marathons in which you would have to identify and locate as many Messiers in a fixed time. The following question is inspired by **SnT Code** - probably the most popular and fun event during your stay on campus. Below is a picture of [M42 (Orion Nebula)](https://en.wikipedia.org/wiki/Orion_Nebula) for absolutely no reason. \n",
    "\n",
    "<p align=\"centre\">\n",
    "<img src=\"../assets/img4.jpg\" width=\"300\">\n",
    "</p>\n",
    "    \n"
   ]
  },
  {
   "cell_type": "markdown",
   "metadata": {},
   "source": [
    "## Identify the Messier"
   ]
  },
  {
   "cell_type": "markdown",
   "metadata": {},
   "source": [
    "You are given the location (RA, DEC) of stars in 2 different globular clusters and based on the data given you have to identify the Messier in the question using your detective skills and the techniques that you have learnt in the previous modules.\n",
    "\n",
    "<p align=\"centre\">\n",
    "<img src=\"../assets/img5.png\" width=\"350\">\n",
    "</p>\n",
    "\n",
    "\n",
    "### Guidelines:\n",
    "\n",
    "> 1. The mean of Right Ascension and Declination can be approximated as the actual location of the Globular Cluster.\n",
    "> 2. Use `SkyCoord.from_name` to prepare a catalog of Messiers with their coordinates (and save it in a CSV file).\n",
    "> 3. Employ the crossmatching techniques that you learnt to find out the nearest Messier to your target cluster. You may take the offset radius to be 30 arcsec. \n",
    "\n",
    "**Note:** Hints will be released at 12:00 A.M 13th June (Sunday). "
   ]
  },
  {
   "cell_type": "code",
   "execution_count": null,
   "metadata": {},
   "outputs": [],
   "source": []
  },
  {
   "cell_type": "markdown",
   "metadata": {},
   "source": [
    "# 2. Scipy"
   ]
  },
  {
   "cell_type": "markdown",
   "metadata": {},
   "source": [
    "The file GW_data_file.csv contains the timeseries and the frequency data of the first Gravitational Wave detection made by LIGO, GW150914.\n",
    "The data file has 3 arrays:\n",
    "a) the strain data, which is filtered, so you don't have to worry about noises,\n",
    "b) the frequency of the data at that particular time (Not exactly),\n",
    "c) the time.\n",
    "\n",
    "**Hint**: You can import it using this code:\n",
    "\n",
    "```python\n",
    "data, freq, time = np.loadtxt('GW_data_file.csv',delimiter=',')\n",
    "```\n",
    "\n",
    "This will automatically give you the data, frequency and the time arrays.\n",
    "\n",
    "Your first task is to make two plots:\n",
    "(a) strain vs time\n",
    "(b) frequency vs time.\n",
    "\n",
    "You should notice something weird about the frequency plot. Why is it weird?\n",
    "\n",
    "Find out the indexes of [zero-crossings](https://en.wikipedia.org/wiki/Zero_crossing). Use the frequency and the time at these zero-crossings to make a frequency vs time scatter plot."
   ]
  },
  {
   "cell_type": "code",
   "execution_count": null,
   "metadata": {},
   "outputs": [],
   "source": []
  },
  {
   "cell_type": "markdown",
   "metadata": {},
   "source": [
    "If you got your results correct, you should see a monotonically increasing function. According to General Relativity, the frequency-time relationship is a power law. Mathematically it is given by:\n",
    "\n",
    "$$ f_{GW}^{-8/3}(t) = \\frac{(8\\pi)^{8/3}}{5}\\Big(\\frac{G\\mathcal{M}}{c^{3}}\\Big)^{5/3}(t_{c}-t) $$\n",
    "Where $f_{GW}$ is the frequency of Gravitational Waves, $\\mathcal{M}$ is the [chirp mass](https://en.wikipedia.org/wiki/Chirp_mass) of the Binary system and $t_{c}$ is the time of coalescence, the time with the $t=0$ mark in your data. Note that this equation is applicable only for $t < t_{c}$, as after this is the ringdown where the process is highly non-linear and it is not possible to predict the equation followed by the frequency.\n",
    "\n",
    "Your task is to take points with frequency higher than 50 Hz until $t_{c}$ and fit a curve to get the chirp mass of the system\n",
    "\n",
    "> _*You can find more about the event in this [paper](https://arxiv.org/pdf/1608.01940.pdf).*_"
   ]
  },
  {
   "cell_type": "markdown",
   "metadata": {},
   "source": [
    "# 3. Time-series Analysis"
   ]
  },
  {
   "cell_type": "markdown",
   "metadata": {},
   "source": [
    "> Go to the OGLE database mentioned in the tutorial notebook. Follow the query procedure and choose any Cepheid of your choice. Download it's relevant data available that is, data for which the plot has been shown on the webpage. \n",
    "Analyse the data to determine the time period and thus phase fold the given data.\n",
    "\n",
    "<p align=\"centre\">\n",
    "<img src=\"../assets/img6.png\" width=\"300\">\n",
    "</p>\n",
    "    "
   ]
  },
  {
   "cell_type": "code",
   "execution_count": null,
   "metadata": {},
   "outputs": [],
   "source": []
  }
 ],
 "metadata": {
  "kernelspec": {
   "display_name": "Python 3",
   "language": "python",
   "name": "python3"
  },
  "language_info": {
   "codemirror_mode": {
    "name": "ipython",
    "version": 3
   },
   "file_extension": ".py",
   "mimetype": "text/x-python",
   "name": "python",
   "nbconvert_exporter": "python",
   "pygments_lexer": "ipython3",
   "version": "3.8.2"
  }
 },
 "nbformat": 4,
 "nbformat_minor": 4
}
