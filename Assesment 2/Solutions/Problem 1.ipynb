{
 "cells": [
  {
   "cell_type": "code",
   "execution_count": 2,
   "metadata": {},
   "outputs": [],
   "source": [
    "import numpy as np\n",
    "import pandas as pd\n",
    "import astropy\n",
    "from astropy.coordinates import SkyCoord\n",
    "from astropy import units as u"
   ]
  },
  {
   "cell_type": "code",
   "execution_count": 3,
   "metadata": {},
   "outputs": [
    {
     "data": {
      "text/html": [
       "<div>\n",
       "<style scoped>\n",
       "    .dataframe tbody tr th:only-of-type {\n",
       "        vertical-align: middle;\n",
       "    }\n",
       "\n",
       "    .dataframe tbody tr th {\n",
       "        vertical-align: top;\n",
       "    }\n",
       "\n",
       "    .dataframe thead th {\n",
       "        text-align: right;\n",
       "    }\n",
       "</style>\n",
       "<table border=\"1\" class=\"dataframe\">\n",
       "  <thead>\n",
       "    <tr style=\"text-align: right;\">\n",
       "      <th></th>\n",
       "      <th>RA</th>\n",
       "      <th>DEC</th>\n",
       "      <th>Cluster</th>\n",
       "    </tr>\n",
       "  </thead>\n",
       "  <tbody>\n",
       "    <tr>\n",
       "      <th>0</th>\n",
       "      <td>279.106183</td>\n",
       "      <td>-23.905930</td>\n",
       "      <td>1.0</td>\n",
       "    </tr>\n",
       "    <tr>\n",
       "      <th>1</th>\n",
       "      <td>279.093075</td>\n",
       "      <td>-23.909687</td>\n",
       "      <td>1.0</td>\n",
       "    </tr>\n",
       "    <tr>\n",
       "      <th>2</th>\n",
       "      <td>279.087353</td>\n",
       "      <td>-23.900153</td>\n",
       "      <td>1.0</td>\n",
       "    </tr>\n",
       "    <tr>\n",
       "      <th>3</th>\n",
       "      <td>279.096235</td>\n",
       "      <td>-23.902155</td>\n",
       "      <td>1.0</td>\n",
       "    </tr>\n",
       "    <tr>\n",
       "      <th>4</th>\n",
       "      <td>279.088062</td>\n",
       "      <td>-23.903066</td>\n",
       "      <td>1.0</td>\n",
       "    </tr>\n",
       "  </tbody>\n",
       "</table>\n",
       "</div>"
      ],
      "text/plain": [
       "           RA        DEC  Cluster\n",
       "0  279.106183 -23.905930      1.0\n",
       "1  279.093075 -23.909687      1.0\n",
       "2  279.087353 -23.900153      1.0\n",
       "3  279.096235 -23.902155      1.0\n",
       "4  279.088062 -23.903066      1.0"
      ]
     },
     "execution_count": 3,
     "metadata": {},
     "output_type": "execute_result"
    }
   ],
   "source": [
    "df=pd.read_csv(\"https://raw.githubusercontent.com/astroclubiitk/computational-astrophysics/main/Week-3/Assignment/Clusters.csv\")\n",
    "df.head()"
   ]
  },
  {
   "cell_type": "code",
   "execution_count": 4,
   "metadata": {},
   "outputs": [],
   "source": [
    "df_1=df.where(df['Cluster']==1.0)\n",
    "df_1=df_1.dropna()"
   ]
  },
  {
   "cell_type": "code",
   "execution_count": 5,
   "metadata": {},
   "outputs": [
    {
     "data": {
      "text/html": [
       "<div>\n",
       "<style scoped>\n",
       "    .dataframe tbody tr th:only-of-type {\n",
       "        vertical-align: middle;\n",
       "    }\n",
       "\n",
       "    .dataframe tbody tr th {\n",
       "        vertical-align: top;\n",
       "    }\n",
       "\n",
       "    .dataframe thead th {\n",
       "        text-align: right;\n",
       "    }\n",
       "</style>\n",
       "<table border=\"1\" class=\"dataframe\">\n",
       "  <thead>\n",
       "    <tr style=\"text-align: right;\">\n",
       "      <th></th>\n",
       "      <th>RA</th>\n",
       "      <th>DEC</th>\n",
       "      <th>Cluster</th>\n",
       "    </tr>\n",
       "  </thead>\n",
       "  <tbody>\n",
       "    <tr>\n",
       "      <th>50</th>\n",
       "      <td>159.315954</td>\n",
       "      <td>65.320547</td>\n",
       "      <td>2.0</td>\n",
       "    </tr>\n",
       "    <tr>\n",
       "      <th>51</th>\n",
       "      <td>158.987567</td>\n",
       "      <td>65.670126</td>\n",
       "      <td>2.0</td>\n",
       "    </tr>\n",
       "    <tr>\n",
       "      <th>52</th>\n",
       "      <td>159.069098</td>\n",
       "      <td>65.854044</td>\n",
       "      <td>2.0</td>\n",
       "    </tr>\n",
       "    <tr>\n",
       "      <th>53</th>\n",
       "      <td>158.332574</td>\n",
       "      <td>65.536196</td>\n",
       "      <td>2.0</td>\n",
       "    </tr>\n",
       "    <tr>\n",
       "      <th>54</th>\n",
       "      <td>159.387041</td>\n",
       "      <td>65.606611</td>\n",
       "      <td>2.0</td>\n",
       "    </tr>\n",
       "  </tbody>\n",
       "</table>\n",
       "</div>"
      ],
      "text/plain": [
       "            RA        DEC  Cluster\n",
       "50  159.315954  65.320547      2.0\n",
       "51  158.987567  65.670126      2.0\n",
       "52  159.069098  65.854044      2.0\n",
       "53  158.332574  65.536196      2.0\n",
       "54  159.387041  65.606611      2.0"
      ]
     },
     "execution_count": 5,
     "metadata": {},
     "output_type": "execute_result"
    }
   ],
   "source": [
    "df_2=df.where(df['Cluster']==2.0)\n",
    "df_2=df_2.dropna()\n",
    "df_2.head()"
   ]
  },
  {
   "cell_type": "code",
   "execution_count": 6,
   "metadata": {},
   "outputs": [
    {
     "name": "stdout",
     "output_type": "stream",
     "text": [
      "279.10024840836667\n",
      "-23.90191594401699\n",
      "158.83323379097496\n",
      "65.75444474392995\n"
     ]
    }
   ],
   "source": [
    "ra_1=np.array(df_1['RA'].tolist())\n",
    "ra_1_m=np.mean(ra_1)\n",
    "dec_1=np.array(df_1['DEC'].tolist())\n",
    "dec_1_m=np.mean(dec_1)\n",
    "print(ra_1_m)\n",
    "print(dec_1_m)\n",
    "ra_2=np.array(df_2['RA'].tolist())\n",
    "ra_2_m=np.mean(ra_2)\n",
    "dec_2=np.array(df_2['DEC'].tolist())\n",
    "dec_2_m=np.mean(dec_2)\n",
    "print(ra_2_m)\n",
    "print(dec_2_m)"
   ]
  },
  {
   "cell_type": "code",
   "execution_count": 7,
   "metadata": {},
   "outputs": [
    {
     "data": {
      "text/html": [
       "<div>\n",
       "<style scoped>\n",
       "    .dataframe tbody tr th:only-of-type {\n",
       "        vertical-align: middle;\n",
       "    }\n",
       "\n",
       "    .dataframe tbody tr th {\n",
       "        vertical-align: top;\n",
       "    }\n",
       "\n",
       "    .dataframe thead th {\n",
       "        text-align: right;\n",
       "    }\n",
       "</style>\n",
       "<table border=\"1\" class=\"dataframe\">\n",
       "  <thead>\n",
       "    <tr style=\"text-align: right;\">\n",
       "      <th></th>\n",
       "      <th>RA</th>\n",
       "      <th>DEC</th>\n",
       "    </tr>\n",
       "  </thead>\n",
       "  <tbody>\n",
       "    <tr>\n",
       "      <th>0</th>\n",
       "      <td>279.100248</td>\n",
       "      <td>-23.901916</td>\n",
       "    </tr>\n",
       "    <tr>\n",
       "      <th>1</th>\n",
       "      <td>158.833234</td>\n",
       "      <td>65.754445</td>\n",
       "    </tr>\n",
       "  </tbody>\n",
       "</table>\n",
       "</div>"
      ],
      "text/plain": [
       "           RA        DEC\n",
       "0  279.100248 -23.901916\n",
       "1  158.833234  65.754445"
      ]
     },
     "execution_count": 7,
     "metadata": {},
     "output_type": "execute_result"
    }
   ],
   "source": [
    "cluster_avg={ 'RA':  [ra_1_m,ra_2_m],\n",
    "              'DEC': [dec_1_m,dec_2_m]\n",
    "            }\n",
    "df_n = pd.DataFrame(cluster_avg, columns = ['RA', 'DEC'])\n",
    "df_n.head()\n",
    "#\"Datframe giving the average location for cluster \""
   ]
  },
  {
   "cell_type": "code",
   "execution_count": 8,
   "metadata": {},
   "outputs": [],
   "source": [
    "dfm = pd.DataFrame(columns=['RA', 'DEC', 'Name'], index=range(110))"
   ]
  },
  {
   "cell_type": "code",
   "execution_count": 9,
   "metadata": {},
   "outputs": [
    {
     "name": "stdout",
     "output_type": "stream",
     "text": [
      "        RA      DEC       Name\n",
      "0  83.6331  22.0145  Messier 1\n",
      "1  323.363 -0.82325  Messier 2\n",
      "2  205.548  28.3773  Messier 3\n",
      "3  245.897 -26.5257  Messier 4\n",
      "4  229.638  2.08103  Messier 5\n"
     ]
    }
   ],
   "source": [
    "Messiers = []\n",
    "for i in range(1,111):\n",
    "    Messier = str(\"Messier \") + str(i)\n",
    "    Messiers.append(Messier)\n",
    "dfm['Name']=Messiers\n",
    "for i in range(len(dfm)):\n",
    "    Coordinate = SkyCoord.from_name(dfm['Name'][i])\n",
    "    dfm['RA'][i] = Coordinate.ra.degree\n",
    "    dfm['DEC'][i] = Coordinate.dec.degree\n",
    "\n",
    "\n",
    "print(dfm.head())\n"
   ]
  },
  {
   "cell_type": "code",
   "execution_count": 10,
   "metadata": {},
   "outputs": [],
   "source": [
    "dfm.to_csv(\"Messiers.csv\", index=None)"
   ]
  },
  {
   "cell_type": "code",
   "execution_count": 11,
   "metadata": {},
   "outputs": [],
   "source": [
    "RA1=np.asarray(df_n['RA'])\n",
    "DEC1=np.asarray(df_n['DEC'])\n",
    "c1 = SkyCoord(ra=RA1*u.degree, dec=DEC1*u.degree, frame='icrs')\n",
    "RA2=np.asarray(dfm['RA'])\n",
    "DEC2=np.asarray(dfm['DEC'])\n",
    "c2 = SkyCoord(ra=RA2*u.degree, dec=DEC2*u.degree, frame='icrs')"
   ]
  },
  {
   "cell_type": "code",
   "execution_count": 12,
   "metadata": {},
   "outputs": [],
   "source": [
    "idx,d2d,d3d = (c1).match_to_catalog_sky(c2)"
   ]
  },
  {
   "cell_type": "code",
   "execution_count": 13,
   "metadata": {},
   "outputs": [],
   "source": [
    "matches=[]\n",
    "max_radius=30./3600\n",
    "\n",
    "for id1, (closest_id2, dist) in enumerate(zip(idx, d2d)): #iterate over every element in idx\n",
    "    closest_dist = dist.value\n",
    "\n",
    "    if closest_dist < max_radius: #if closest_distance is less than max threshold for errors they must be the same object\n",
    "        matches.append([id1, closest_id2, closest_dist])"
   ]
  },
  {
   "cell_type": "code",
   "execution_count": 14,
   "metadata": {},
   "outputs": [
    {
     "name": "stdout",
     "output_type": "stream",
     "text": [
      "1\n"
     ]
    }
   ],
   "source": [
    "print(len(matches))"
   ]
  },
  {
   "cell_type": "code",
   "execution_count": 15,
   "metadata": {},
   "outputs": [
    {
     "name": "stdout",
     "output_type": "stream",
     "text": [
      "[[0, 21, 0.00287045282443897]]\n"
     ]
    }
   ],
   "source": [
    "print(matches)"
   ]
  },
  {
   "cell_type": "code",
   "execution_count": 16,
   "metadata": {},
   "outputs": [
    {
     "name": "stdout",
     "output_type": "stream",
     "text": [
      "The globular cluster 1 matches with Messier 22\n",
      "----------------------------------------------------------------------------------------------------\n",
      "RA     279.100248\n",
      "DEC    -23.901916\n",
      "Name: 0, dtype: float64\n",
      "----------------------------------------------------------------------------------------------------\n",
      "RA           279.1\n",
      "DEC       -23.9047\n",
      "Name    Messier 22\n",
      "Name: 21, dtype: object\n"
     ]
    }
   ],
   "source": [
    "print('The globular cluster 1 matches with Messier 22')\n",
    "print('-'*100)\n",
    "print(df_n.iloc[0])\n",
    "print('-'*100)\n",
    "print(dfm.iloc[21])"
   ]
  }
 ],
 "metadata": {
  "kernelspec": {
   "display_name": "Python 3",
   "language": "python",
   "name": "python3"
  },
  "language_info": {
   "codemirror_mode": {
    "name": "ipython",
    "version": 3
   },
   "file_extension": ".py",
   "mimetype": "text/x-python",
   "name": "python",
   "nbconvert_exporter": "python",
   "pygments_lexer": "ipython3",
   "version": "3.8.5"
  }
 },
 "nbformat": 4,
 "nbformat_minor": 4
}
